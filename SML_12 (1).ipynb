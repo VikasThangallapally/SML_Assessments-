{
  "nbformat": 4,
  "nbformat_minor": 0,
  "metadata": {
    "colab": {
      "provenance": []
    },
    "kernelspec": {
      "name": "python3",
      "display_name": "Python 3"
    },
    "language_info": {
      "name": "python"
    }
  },
  "cells": [
    {
      "cell_type": "code",
      "execution_count": 1,
      "metadata": {
        "colab": {
          "base_uri": "https://localhost:8080/"
        },
        "id": "FVgkGDBGufb1",
        "outputId": "804d920a-4ffb-43d0-b710-4527dc06d79a"
      },
      "outputs": [
        {
          "output_type": "stream",
          "name": "stdout",
          "text": [
            "     Age  Gender  Protein1  Protein2  Protein3  Protein4 Tumour_Stage  \\\n",
            "0     42  FEMALE  0.952560   2.15000  0.007972 -0.048340           II   \n",
            "1     54  FEMALE  0.000000   1.38020 -0.498030 -0.507320           II   \n",
            "2     63  FEMALE -0.523030   1.76400 -0.370190  0.010815           II   \n",
            "3     78  FEMALE -0.876180   0.12943 -0.370380  0.132190            I   \n",
            "4     42  FEMALE  0.226110   1.74910 -0.543970 -0.390210           II   \n",
            "..   ...     ...       ...       ...       ...       ...          ...   \n",
            "329   59  FEMALE  0.024598   1.40050  0.024751  0.280320           II   \n",
            "330   41  FEMALE  0.100120  -0.46547  0.472370 -0.523870            I   \n",
            "331   54  FEMALE  0.753820   1.64250 -0.332850  0.857860           II   \n",
            "332   74  FEMALE  0.972510   1.42680 -0.366570 -0.107820           II   \n",
            "333   66  FEMALE  0.286380   1.39980  0.318830  0.836050           II   \n",
            "\n",
            "                          Histology ER status PR status HER2 status  \\\n",
            "0     Infiltrating Ductal Carcinoma  Positive  Positive    Negative   \n",
            "1     Infiltrating Ductal Carcinoma  Positive  Positive    Negative   \n",
            "2     Infiltrating Ductal Carcinoma  Positive  Positive    Negative   \n",
            "3     Infiltrating Ductal Carcinoma  Positive  Positive    Negative   \n",
            "4     Infiltrating Ductal Carcinoma  Positive  Positive    Positive   \n",
            "..                              ...       ...       ...         ...   \n",
            "329   Infiltrating Ductal Carcinoma  Positive  Positive    Positive   \n",
            "330   Infiltrating Ductal Carcinoma  Positive  Positive    Positive   \n",
            "331   Infiltrating Ductal Carcinoma  Positive  Positive    Negative   \n",
            "332  Infiltrating Lobular Carcinoma  Positive  Positive    Negative   \n",
            "333   Infiltrating Ductal Carcinoma  Positive  Positive    Negative   \n",
            "\n",
            "                    Surgery_type Date_of_Surgery Date_of_Last_Visit  \\\n",
            "0                          Other       20-May-18          26-Aug-18   \n",
            "1                          Other       26-Apr-18          25-Jan-19   \n",
            "2                     Lumpectomy       24-Aug-18          08-Apr-20   \n",
            "3                          Other       16-Nov-18          28-Jul-20   \n",
            "4                     Lumpectomy       12-Dec-18          05-Jan-19   \n",
            "..                           ...             ...                ...   \n",
            "329                   Lumpectomy       15-Jan-19          27-Mar-20   \n",
            "330  Modified Radical Mastectomy       25-Jul-18          23-Apr-19   \n",
            "331            Simple Mastectomy       26-Mar-19          11-Oct-19   \n",
            "332                   Lumpectomy       26-Nov-18          05-Dec-18   \n",
            "333  Modified Radical Mastectomy       04-Feb-19          10-Aug-19   \n",
            "\n",
            "    Patient_Status  \n",
            "0            Alive  \n",
            "1             Dead  \n",
            "2            Alive  \n",
            "3            Alive  \n",
            "4            Alive  \n",
            "..             ...  \n",
            "329          Alive  \n",
            "330          Alive  \n",
            "331           Dead  \n",
            "332          Alive  \n",
            "333           Dead  \n",
            "\n",
            "[334 rows x 15 columns]\n"
          ]
        }
      ],
      "source": [
        "import pandas as pd\n",
        "import numpy as np\n",
        "d=pd.read_csv('/content/breast_cancer_survival.csv')\n",
        "print(d)"
      ]
    },
    {
      "cell_type": "code",
      "source": [
        "d['Gender'] = d['Gender'].map({'FEMALE': 0, 'MALE': 1})\n",
        "d['Tumour_Stage'] = d['Tumour_Stage'].map({'I': 1, 'II': 2, 'III': 3})\n",
        "d['Histology'] = d['Histology'].factorize()[0]\n",
        "d['ER status'] = d['ER status'].map({'Positive': 1, 'Negative': 0})\n",
        "d['PR status'] = d['PR status'].map({'Positive': 1, 'Negative': 0})\n",
        "d['HER2 status'] = d['HER2 status'].map({'Positive': 1, 'Negative': 0})\n",
        "d['Surgery_type'] = d['Surgery_type'].factorize()[0]\n",
        "d['Patient_Status'] = d['Patient_Status'].map({'Alive': 1, 'Dead': 0})\n",
        "d['Date_of_Surgery']=d['Date_of_Surgery'].map({'20-May-18':0,'26-Apr-18':1,'24-Aug-18':2,'16-Nov-18':3,'12-Dec-18':4,'15-Jan-19':5,'25-Jul-18':6,'26-Mar-19':7,'26-Nov-18':8,'04-Feb-19':9})\n",
        "d['Date_of_Last_Visit']=d['Date_of_Last_Visit'].map({'26-Aug-18':0,'25-Jan-19':1,'08-Apr-20':2,'28-Jul-20':3,'05-Jan-19':4,'27-Mar-20':5,'23-Apr-19':6,'11-Oct-19':7,'05-Dec-18':8,'10-Aug-19':9})\n",
        "print(d)"
      ],
      "metadata": {
        "colab": {
          "base_uri": "https://localhost:8080/"
        },
        "id": "PdewWDdnvHx3",
        "outputId": "6b0c2fd5-a523-4aac-d8d3-9df9f20dd987"
      },
      "execution_count": 2,
      "outputs": [
        {
          "output_type": "stream",
          "name": "stdout",
          "text": [
            "     Age  Gender  Protein1  Protein2  Protein3  Protein4  Tumour_Stage  \\\n",
            "0     42       0  0.952560   2.15000  0.007972 -0.048340             2   \n",
            "1     54       0  0.000000   1.38020 -0.498030 -0.507320             2   \n",
            "2     63       0 -0.523030   1.76400 -0.370190  0.010815             2   \n",
            "3     78       0 -0.876180   0.12943 -0.370380  0.132190             1   \n",
            "4     42       0  0.226110   1.74910 -0.543970 -0.390210             2   \n",
            "..   ...     ...       ...       ...       ...       ...           ...   \n",
            "329   59       0  0.024598   1.40050  0.024751  0.280320             2   \n",
            "330   41       0  0.100120  -0.46547  0.472370 -0.523870             1   \n",
            "331   54       0  0.753820   1.64250 -0.332850  0.857860             2   \n",
            "332   74       0  0.972510   1.42680 -0.366570 -0.107820             2   \n",
            "333   66       0  0.286380   1.39980  0.318830  0.836050             2   \n",
            "\n",
            "     Histology  ER status  PR status  HER2 status  Surgery_type  \\\n",
            "0            0          1          1            0             0   \n",
            "1            0          1          1            0             0   \n",
            "2            0          1          1            0             1   \n",
            "3            0          1          1            0             0   \n",
            "4            0          1          1            1             1   \n",
            "..         ...        ...        ...          ...           ...   \n",
            "329          0          1          1            1             1   \n",
            "330          0          1          1            1             2   \n",
            "331          0          1          1            0             3   \n",
            "332          1          1          1            0             1   \n",
            "333          0          1          1            0             2   \n",
            "\n",
            "     Date_of_Surgery  Date_of_Last_Visit  Patient_Status  \n",
            "0                0.0                 0.0             1.0  \n",
            "1                1.0                 1.0             0.0  \n",
            "2                2.0                 2.0             1.0  \n",
            "3                3.0                 3.0             1.0  \n",
            "4                4.0                 4.0             1.0  \n",
            "..               ...                 ...             ...  \n",
            "329              5.0                 5.0             1.0  \n",
            "330              6.0                 6.0             1.0  \n",
            "331              7.0                 7.0             0.0  \n",
            "332              8.0                 8.0             1.0  \n",
            "333              9.0                 9.0             0.0  \n",
            "\n",
            "[334 rows x 15 columns]\n"
          ]
        }
      ]
    },
    {
      "cell_type": "code",
      "source": [
        "y=d['Patient_Status']\n",
        "print(y)"
      ],
      "metadata": {
        "colab": {
          "base_uri": "https://localhost:8080/"
        },
        "id": "YXucljScvR9y",
        "outputId": "fb93668a-788a-4b0f-fb71-62acf47b037b"
      },
      "execution_count": 3,
      "outputs": [
        {
          "output_type": "stream",
          "name": "stdout",
          "text": [
            "0      1.0\n",
            "1      0.0\n",
            "2      1.0\n",
            "3      1.0\n",
            "4      1.0\n",
            "      ... \n",
            "329    1.0\n",
            "330    1.0\n",
            "331    0.0\n",
            "332    1.0\n",
            "333    0.0\n",
            "Name: Patient_Status, Length: 334, dtype: float64\n"
          ]
        }
      ]
    },
    {
      "cell_type": "code",
      "source": [
        "x=d.drop('Patient_Status',axis=1)\n",
        "print(x)"
      ],
      "metadata": {
        "colab": {
          "base_uri": "https://localhost:8080/"
        },
        "id": "WY5uX_t2vX9n",
        "outputId": "0a04c332-ea0b-42d1-f331-eedf49942d31"
      },
      "execution_count": 4,
      "outputs": [
        {
          "output_type": "stream",
          "name": "stdout",
          "text": [
            "     Age  Gender  Protein1  Protein2  Protein3  Protein4  Tumour_Stage  \\\n",
            "0     42       0  0.952560   2.15000  0.007972 -0.048340             2   \n",
            "1     54       0  0.000000   1.38020 -0.498030 -0.507320             2   \n",
            "2     63       0 -0.523030   1.76400 -0.370190  0.010815             2   \n",
            "3     78       0 -0.876180   0.12943 -0.370380  0.132190             1   \n",
            "4     42       0  0.226110   1.74910 -0.543970 -0.390210             2   \n",
            "..   ...     ...       ...       ...       ...       ...           ...   \n",
            "329   59       0  0.024598   1.40050  0.024751  0.280320             2   \n",
            "330   41       0  0.100120  -0.46547  0.472370 -0.523870             1   \n",
            "331   54       0  0.753820   1.64250 -0.332850  0.857860             2   \n",
            "332   74       0  0.972510   1.42680 -0.366570 -0.107820             2   \n",
            "333   66       0  0.286380   1.39980  0.318830  0.836050             2   \n",
            "\n",
            "     Histology  ER status  PR status  HER2 status  Surgery_type  \\\n",
            "0            0          1          1            0             0   \n",
            "1            0          1          1            0             0   \n",
            "2            0          1          1            0             1   \n",
            "3            0          1          1            0             0   \n",
            "4            0          1          1            1             1   \n",
            "..         ...        ...        ...          ...           ...   \n",
            "329          0          1          1            1             1   \n",
            "330          0          1          1            1             2   \n",
            "331          0          1          1            0             3   \n",
            "332          1          1          1            0             1   \n",
            "333          0          1          1            0             2   \n",
            "\n",
            "     Date_of_Surgery  Date_of_Last_Visit  \n",
            "0                0.0                 0.0  \n",
            "1                1.0                 1.0  \n",
            "2                2.0                 2.0  \n",
            "3                3.0                 3.0  \n",
            "4                4.0                 4.0  \n",
            "..               ...                 ...  \n",
            "329              5.0                 5.0  \n",
            "330              6.0                 6.0  \n",
            "331              7.0                 7.0  \n",
            "332              8.0                 8.0  \n",
            "333              9.0                 9.0  \n",
            "\n",
            "[334 rows x 14 columns]\n"
          ]
        }
      ]
    },
    {
      "cell_type": "code",
      "source": [
        "x.fillna(x.mean(),inplace=True)"
      ],
      "metadata": {
        "id": "1G3tvFVUwZvx"
      },
      "execution_count": 5,
      "outputs": []
    },
    {
      "cell_type": "code",
      "source": [
        "x.isna().sum()"
      ],
      "metadata": {
        "colab": {
          "base_uri": "https://localhost:8080/",
          "height": 523
        },
        "id": "Lw8xjGEUwkKJ",
        "outputId": "4757f4ce-9eea-4377-d8d6-6611edf41a62"
      },
      "execution_count": 6,
      "outputs": [
        {
          "output_type": "execute_result",
          "data": {
            "text/plain": [
              "Age                   0\n",
              "Gender                0\n",
              "Protein1              0\n",
              "Protein2              0\n",
              "Protein3              0\n",
              "Protein4              0\n",
              "Tumour_Stage          0\n",
              "Histology             0\n",
              "ER status             0\n",
              "PR status             0\n",
              "HER2 status           0\n",
              "Surgery_type          0\n",
              "Date_of_Surgery       0\n",
              "Date_of_Last_Visit    0\n",
              "dtype: int64"
            ],
            "text/html": [
              "<div>\n",
              "<style scoped>\n",
              "    .dataframe tbody tr th:only-of-type {\n",
              "        vertical-align: middle;\n",
              "    }\n",
              "\n",
              "    .dataframe tbody tr th {\n",
              "        vertical-align: top;\n",
              "    }\n",
              "\n",
              "    .dataframe thead th {\n",
              "        text-align: right;\n",
              "    }\n",
              "</style>\n",
              "<table border=\"1\" class=\"dataframe\">\n",
              "  <thead>\n",
              "    <tr style=\"text-align: right;\">\n",
              "      <th></th>\n",
              "      <th>0</th>\n",
              "    </tr>\n",
              "  </thead>\n",
              "  <tbody>\n",
              "    <tr>\n",
              "      <th>Age</th>\n",
              "      <td>0</td>\n",
              "    </tr>\n",
              "    <tr>\n",
              "      <th>Gender</th>\n",
              "      <td>0</td>\n",
              "    </tr>\n",
              "    <tr>\n",
              "      <th>Protein1</th>\n",
              "      <td>0</td>\n",
              "    </tr>\n",
              "    <tr>\n",
              "      <th>Protein2</th>\n",
              "      <td>0</td>\n",
              "    </tr>\n",
              "    <tr>\n",
              "      <th>Protein3</th>\n",
              "      <td>0</td>\n",
              "    </tr>\n",
              "    <tr>\n",
              "      <th>Protein4</th>\n",
              "      <td>0</td>\n",
              "    </tr>\n",
              "    <tr>\n",
              "      <th>Tumour_Stage</th>\n",
              "      <td>0</td>\n",
              "    </tr>\n",
              "    <tr>\n",
              "      <th>Histology</th>\n",
              "      <td>0</td>\n",
              "    </tr>\n",
              "    <tr>\n",
              "      <th>ER status</th>\n",
              "      <td>0</td>\n",
              "    </tr>\n",
              "    <tr>\n",
              "      <th>PR status</th>\n",
              "      <td>0</td>\n",
              "    </tr>\n",
              "    <tr>\n",
              "      <th>HER2 status</th>\n",
              "      <td>0</td>\n",
              "    </tr>\n",
              "    <tr>\n",
              "      <th>Surgery_type</th>\n",
              "      <td>0</td>\n",
              "    </tr>\n",
              "    <tr>\n",
              "      <th>Date_of_Surgery</th>\n",
              "      <td>0</td>\n",
              "    </tr>\n",
              "    <tr>\n",
              "      <th>Date_of_Last_Visit</th>\n",
              "      <td>0</td>\n",
              "    </tr>\n",
              "  </tbody>\n",
              "</table>\n",
              "</div><br><label><b>dtype:</b> int64</label>"
            ]
          },
          "metadata": {},
          "execution_count": 6
        }
      ]
    },
    {
      "cell_type": "code",
      "source": [
        "y.isna().sum()"
      ],
      "metadata": {
        "colab": {
          "base_uri": "https://localhost:8080/"
        },
        "id": "QCo0DVinwjb9",
        "outputId": "407eb96f-06f8-4f03-adde-7d9ccd571f25"
      },
      "execution_count": 7,
      "outputs": [
        {
          "output_type": "execute_result",
          "data": {
            "text/plain": [
              "13"
            ]
          },
          "metadata": {},
          "execution_count": 7
        }
      ]
    },
    {
      "cell_type": "code",
      "source": [
        "y.fillna(y.mean(),inplace=True)"
      ],
      "metadata": {
        "id": "2bAHv9P4wowC"
      },
      "execution_count": 8,
      "outputs": []
    },
    {
      "cell_type": "code",
      "source": [
        "y=y.astype(int)"
      ],
      "metadata": {
        "id": "hgf1UY6GxOF6"
      },
      "execution_count": 9,
      "outputs": []
    },
    {
      "cell_type": "code",
      "source": [
        "from sklearn.model_selection import train_test_split\n",
        "x_train,x_test,y_train,y_test=train_test_split(x,y,test_size=0.2,random_state=42)"
      ],
      "metadata": {
        "id": "ujB2bSecvaSv"
      },
      "execution_count": 10,
      "outputs": []
    },
    {
      "cell_type": "code",
      "source": [
        "from sklearn.linear_model import LogisticRegression\n",
        "from sklearn.metrics import accuracy_score\n",
        "model=LogisticRegression(max_iter=1000)"
      ],
      "metadata": {
        "id": "Ez2TCzeMvnoV"
      },
      "execution_count": 11,
      "outputs": []
    },
    {
      "cell_type": "code",
      "source": [
        "model.fit(x_train,y_train)\n",
        "y_pred=model.predict(x_test)\n",
        "accuracy=accuracy_score(y_test,y_pred)\n",
        "print(accuracy)"
      ],
      "metadata": {
        "colab": {
          "base_uri": "https://localhost:8080/"
        },
        "id": "Mvs3vnzEv10G",
        "outputId": "0ba3fd99-33ec-46ad-80af-168461ea67a9"
      },
      "execution_count": 12,
      "outputs": [
        {
          "output_type": "stream",
          "name": "stdout",
          "text": [
            "0.7761194029850746\n"
          ]
        }
      ]
    },
    {
      "cell_type": "code",
      "source": [
        "from sklearn.svm import SVC\n",
        "model=SVC()"
      ],
      "metadata": {
        "id": "MGdAGuiLwsRr"
      },
      "execution_count": 13,
      "outputs": []
    },
    {
      "cell_type": "code",
      "source": [
        "model.fit(x_train,y_train)\n",
        "y_pred=model.predict(x_test)\n",
        "accuracy=accuracy_score(y_test,y_pred)\n",
        "print(accuracy)"
      ],
      "metadata": {
        "colab": {
          "base_uri": "https://localhost:8080/"
        },
        "id": "dWoKmK3lxGC-",
        "outputId": "29d01266-3ff4-47fa-ba1d-beb9639a5379"
      },
      "execution_count": 14,
      "outputs": [
        {
          "output_type": "stream",
          "name": "stdout",
          "text": [
            "0.7761194029850746\n"
          ]
        }
      ]
    },
    {
      "cell_type": "code",
      "source": [
        "from sklearn.neighbors import KNeighborsClassifier\n",
        "model=KNeighborsClassifier()\n",
        "model.fit(x_train,y_train)\n",
        "y_pred=model.predict(x_test)\n",
        "accuracy=accuracy_score(y_test,y_pred)\n",
        "print(accuracy)"
      ],
      "metadata": {
        "colab": {
          "base_uri": "https://localhost:8080/"
        },
        "id": "U1ef9ZSjxH4u",
        "outputId": "08842137-fdfb-43d2-cbd4-376c41337732"
      },
      "execution_count": 15,
      "outputs": [
        {
          "output_type": "stream",
          "name": "stdout",
          "text": [
            "0.7313432835820896\n"
          ]
        }
      ]
    },
    {
      "cell_type": "code",
      "source": [
        "from sklearn.utils import resample\n"
      ],
      "metadata": {
        "id": "SIk4a-TKxveh"
      },
      "execution_count": 16,
      "outputs": []
    },
    {
      "cell_type": "code",
      "source": [
        "knn_accuracies=[]\n",
        "lr=[]\n",
        "sv=[]\n"
      ],
      "metadata": {
        "id": "hUESI9afyopr"
      },
      "execution_count": 17,
      "outputs": []
    },
    {
      "cell_type": "code",
      "source": [
        "model_logistic=LogisticRegression(max_iter=1000)\n",
        "model_knn = KNeighborsClassifier()\n",
        "model_svc = SVC()"
      ],
      "metadata": {
        "id": "8EC1BQnc6OYh"
      },
      "execution_count": 18,
      "outputs": []
    },
    {
      "cell_type": "code",
      "source": [
        "x.shape"
      ],
      "metadata": {
        "colab": {
          "base_uri": "https://localhost:8080/"
        },
        "id": "8lOiRuNx6dTT",
        "outputId": "e4532249-5763-40ab-fa3a-8022cc6ff0c7"
      },
      "execution_count": 19,
      "outputs": [
        {
          "output_type": "execute_result",
          "data": {
            "text/plain": [
              "(334, 14)"
            ]
          },
          "metadata": {},
          "execution_count": 19
        }
      ]
    },
    {
      "cell_type": "code",
      "source": [
        "y.shape"
      ],
      "metadata": {
        "colab": {
          "base_uri": "https://localhost:8080/"
        },
        "id": "ioZ4axOp6gP9",
        "outputId": "cdb5bfb9-8d9e-4e7e-d6cb-41b1eeb74864"
      },
      "execution_count": 20,
      "outputs": [
        {
          "output_type": "execute_result",
          "data": {
            "text/plain": [
              "(334,)"
            ]
          },
          "metadata": {},
          "execution_count": 20
        }
      ]
    },
    {
      "cell_type": "code",
      "source": [
        "for i in range(10):\n",
        "  x_resample,y_resample=resample(x,y)\n",
        "  x_train, x_test, y_train, y_test = train_test_split(x_resample,y_resample, test_size=0.2,random_state=42)\n",
        "  model_logistic.fit(x_train,y_train)\n",
        "  model_knn.fit(x_train,y_train)\n",
        "  model_svc.fit(x_train,y_train)\n",
        "  y_pred_lr=model_logistic.predict(x_test)\n",
        "  y_pred_knn=model_knn.predict(x_test)\n",
        "  y_pred_svc=model_svc.predict(x_test)\n",
        "  accuracy_knn=accuracy_score(y_test,y_pred_knn)\n",
        "  accuracy_lr=accuracy_score(y_test,y_pred_lr)\n",
        "  accuracy_svc=accuracy_score(y_test,y_pred_svc)\n",
        "  knn_accuracies.append(accuracy_knn)\n",
        "  lr.append(accuracy_lr)\n",
        "  sv.append(accuracy_svc)\n",
        "  print(\"Logistic Regression Accuracy:\",accuracy_lr)\n",
        "  print(\"KNN Accuracy:\",accuracy_knn)\n",
        "  print(\"SVC Accuracy:\",accuracy_svc)"
      ],
      "metadata": {
        "colab": {
          "base_uri": "https://localhost:8080/"
        },
        "id": "hSz12H4y6h23",
        "outputId": "d6e736a2-893b-4255-e8ae-f10b318c5332"
      },
      "execution_count": 21,
      "outputs": [
        {
          "output_type": "stream",
          "name": "stdout",
          "text": [
            "Logistic Regression Accuracy: 0.8507462686567164\n",
            "KNN Accuracy: 0.8507462686567164\n",
            "SVC Accuracy: 0.8656716417910447\n",
            "Logistic Regression Accuracy: 0.7164179104477612\n",
            "KNN Accuracy: 0.6567164179104478\n",
            "SVC Accuracy: 0.7014925373134329\n",
            "Logistic Regression Accuracy: 0.8208955223880597\n",
            "KNN Accuracy: 0.7611940298507462\n",
            "SVC Accuracy: 0.8208955223880597\n",
            "Logistic Regression Accuracy: 0.746268656716418\n",
            "KNN Accuracy: 0.746268656716418\n",
            "SVC Accuracy: 0.7611940298507462\n",
            "Logistic Regression Accuracy: 0.7164179104477612\n",
            "KNN Accuracy: 0.746268656716418\n",
            "SVC Accuracy: 0.7313432835820896\n",
            "Logistic Regression Accuracy: 0.8208955223880597\n",
            "KNN Accuracy: 0.7910447761194029\n",
            "SVC Accuracy: 0.8208955223880597\n",
            "Logistic Regression Accuracy: 0.8059701492537313\n",
            "KNN Accuracy: 0.7611940298507462\n",
            "SVC Accuracy: 0.8059701492537313\n",
            "Logistic Regression Accuracy: 0.7761194029850746\n",
            "KNN Accuracy: 0.746268656716418\n",
            "SVC Accuracy: 0.7761194029850746\n",
            "Logistic Regression Accuracy: 0.7910447761194029\n",
            "KNN Accuracy: 0.7164179104477612\n",
            "SVC Accuracy: 0.7761194029850746\n",
            "Logistic Regression Accuracy: 0.7313432835820896\n",
            "KNN Accuracy: 0.6716417910447762\n",
            "SVC Accuracy: 0.7313432835820896\n"
          ]
        }
      ]
    },
    {
      "cell_type": "code",
      "source": [
        "import seaborn as sns\n",
        "import matplotlib.pyplot as plt\n",
        "x = np.arange(1, len(knn_accuracies) + 1)\n",
        "plt.title('Boostrap')\n",
        "plt.plot(x, knn_accuracies, marker='^', label='knn', color='blue')\n",
        "plt.plot(x, sv, marker='*', label='sv', color='red')\n",
        "plt.plot(x, lr, marker='o', label='lr', color='green')\n",
        "plt.show()"
      ],
      "metadata": {
        "colab": {
          "base_uri": "https://localhost:8080/",
          "height": 452
        },
        "id": "9OIFO6P_8mnX",
        "outputId": "5ab0ef7e-a2f1-45b0-bba4-0609ba2d2d27"
      },
      "execution_count": 22,
      "outputs": [
        {
          "output_type": "display_data",
          "data": {
            "text/plain": [
              "<Figure size 640x480 with 1 Axes>"
            ],
            "image/png": "[encoded data removed]"
          },
          "metadata": {}
        }
      ]
    },
    {
      "cell_type": "code",
      "source": [],
      "metadata": {
        "id": "MPRzss7Y83wt"
      },
      "execution_count": 22,
      "outputs": []
    }
  ]
}